{
 "cells": [
  {
   "cell_type": "markdown",
   "metadata": {},
   "source": [
    "# PUNCH BUDDY"
   ]
  },
  {
   "cell_type": "code",
   "execution_count": 5,
   "metadata": {},
   "outputs": [],
   "source": [
    "from __future__ import absolute_import, division, print_function, unicode_literals\n",
    "import tensorflow as tf\n",
    "\n",
    "from src.load_data import *\n",
    "from src.clean_data import *\n",
    "\n",
    "import warnings\n",
    "warnings.filterwarnings('ignore')\n",
    "\n",
    "\n",
    "import matplotlib as mpl\n",
    "import matplotlib.pyplot as plt\n",
    "import numpy as np\n",
    "import os\n",
    "import pandas as pd\n",
    "\n",
    "import seaborn as sb\n",
    "\n",
    "from sklearn.model_selection import train_test_split\n"
   ]
  },
  {
   "cell_type": "markdown",
   "metadata": {},
   "source": [
    "## How to USE\n",
    " - Move raw data folders to the /data/staging/ directory\n",
    " - Run preprocessing \"process_staging\" function\n",
    " - Run load_data function\n",
    " - Initialize and run RNN boi"
   ]
  },
  {
   "cell_type": "code",
   "execution_count": 2,
   "metadata": {},
   "outputs": [
    {
     "name": "stdout",
     "output_type": "stream",
     "text": [
      "Process Staging Data Begin\n",
      "PATHS\n",
      "----------------------------------------------\n",
      "/Users/matthewhwang/Galvanize/fightclub/data/staging/Left Jab 100 Matt Combo RC_2019-11-05T20-19-06.646\n",
      "/Users/matthewhwang/Galvanize/fightclub/data/staging/Left Jab 10 Jack_2019-11-05T16-19-57.817\n",
      "/Users/matthewhwang/Galvanize/fightclub/data/staging/Right Hook 50 Matt Combo LJ_2019-11-09T14-55-19.454\n",
      "/Users/matthewhwang/Galvanize/fightclub/data/staging/Left Jab 50 Egor Combo RH_2019-11-05T21-06-15.179\n",
      "/Users/matthewhwang/Galvanize/fightclub/data/staging/Left Jab 200 Matt Combo RC_2019-11-09T14-06-59.036\n",
      "/Users/matthewhwang/Galvanize/fightclub/data/staging/Right Hook 90 Matt Combo LH_2019-11-09T13-57-31.418\n",
      "/Users/matthewhwang/Galvanize/fightclub/data/staging/Left Hook 50 Matt_2019-11-05T16-38-07.845\n",
      "/Users/matthewhwang/Galvanize/fightclub/data/staging/Left Hook 10 Eric_2019-11-05T11-58-49.181\n",
      "/Users/matthewhwang/Galvanize/fightclub/data/staging/Left Jab 25 Egor_2019-11-05T16-24-17.326\n",
      "/Users/matthewhwang/Galvanize/fightclub/data/staging/Left Jab 50 Matt_2019-11-05T14-14-39.859\n",
      "/Users/matthewhwang/Galvanize/fightclub/data/staging/Right Cross 50 Matt_2019-11-05T14-16-56.550\n",
      "/Users/matthewhwang/Galvanize/fightclub/data/staging/Right Cross 50 Egor Combo LH_2019-11-05T21-02-03.333\n",
      "/Users/matthewhwang/Galvanize/fightclub/data/staging/Right Cross 100 Egor Combo LJ_2019-11-05T20-25-00.012\n",
      "/Users/matthewhwang/Galvanize/fightclub/data/staging/Left Jab 100 Egor Combo RC_2019-11-05T20-25-14.955\n",
      "/Users/matthewhwang/Galvanize/fightclub/data/staging/Right Hook 100 Egor Combo LH_2019-11-05T20-48-38.704\n",
      "/Users/matthewhwang/Galvanize/fightclub/data/staging/Right Cross 100 Matt Combo LJ_2019-11-09T13-51-18.641\n",
      "/Users/matthewhwang/Galvanize/fightclub/data/staging/Right Hook 50 Matt Combo LH_2019-11-09T14-44-11.225\n",
      "/Users/matthewhwang/Galvanize/fightclub/data/staging/Left Jab 20 Nathan_2019-11-06T22-02-50.040\n",
      "/Users/matthewhwang/Galvanize/fightclub/data/staging/Left Hook 10 Adam_2019-11-05T12-23-07.934\n",
      "/Users/matthewhwang/Galvanize/fightclub/data/staging/Right Cross 200 Matt Combo LJ_2019-11-05T21-10-03.346\n",
      "/Users/matthewhwang/Galvanize/fightclub/data/staging/Left Jab 25 David_2019-11-06T22-21-13.775\n",
      "/Users/matthewhwang/Galvanize/fightclub/data/staging/Right Cross 10 Linh_2019-11-05T17-47-16.653\n",
      "/Users/matthewhwang/Galvanize/fightclub/data/staging/Left Jab 25 Matt_2019-11-05T17-25-02.091\n",
      "/Users/matthewhwang/Galvanize/fightclub/data/staging/Left Jab 10 Adam_2019-11-05T12-22-19.065\n",
      "/Users/matthewhwang/Galvanize/fightclub/data/staging/Right Cross 25 Egor_2019-11-05T16-25-38.179\n",
      "/Users/matthewhwang/Galvanize/fightclub/data/staging/Left Jab 10 Linh_2019-11-05T17-46-08.174\n",
      "/Users/matthewhwang/Galvanize/fightclub/data/staging/Right Cross 25 David_2019-11-06T22-20-57.087\n",
      "/Users/matthewhwang/Galvanize/fightclub/data/staging/Left Hook 90 Matt Combc RH_2019-11-09T13-57-17.403\n",
      "/Users/matthewhwang/Galvanize/fightclub/data/staging/Right Cross 10 Jack_2019-11-05T16-22-21.111\n",
      "/Users/matthewhwang/Galvanize/fightclub/data/staging/Left Hook 10 Matt_2019-11-05T12-00-44.196\n",
      "/Users/matthewhwang/Galvanize/fightclub/data/staging/Left Jab 10 Lea_2019-11-05T11-52-05.449\n",
      "/Users/matthewhwang/Galvanize/fightclub/data/staging/Left Hook 10 Jack_2019-11-05T16-21-09.623\n",
      "/Users/matthewhwang/Galvanize/fightclub/data/staging/Left Hook 100 Matt Combc RH_2019-11-09T14-14-35.807\n",
      "/Users/matthewhwang/Galvanize/fightclub/data/staging/Left Jab 10 Eric _2019-11-05T11-58-10.574\n",
      "/Users/matthewhwang/Galvanize/fightclub/data/staging/Right Cross 25 Lea_2019-11-05T16-39-58.792\n",
      "/Users/matthewhwang/Galvanize/fightclub/data/staging/Left Jab 20 Matt Combo RH_2019-11-09T15-00-30.300\n",
      "/Users/matthewhwang/Galvanize/fightclub/data/staging/Left Hook 25 Aaron_2019-11-05T14-12-23.107\n",
      "/Users/matthewhwang/Galvanize/fightclub/data/staging/Left Hook 20 Matt Combc RH_2019-11-09T14-41-53.730\n",
      "/Users/matthewhwang/Galvanize/fightclub/data/staging/Left Jab 200 Matt Combo RC_2019-11-05T21-10-21.439\n",
      "/Users/matthewhwang/Galvanize/fightclub/data/staging/Left Jab 20 Nina_2019-11-06T22-05-33.583\n",
      "/Users/matthewhwang/Galvanize/fightclub/data/staging/Left Hook 50 Matt Combc RH_2019-11-09T14-43-52.716\n",
      "/Users/matthewhwang/Galvanize/fightclub/data/staging/Left Hook 20 Matt Combc RH_2019-11-09T14-29-59.906\n",
      "/Users/matthewhwang/Galvanize/fightclub/data/staging/Left Hook 50 Egor Combo RC_2019-11-05T21-01-47.530\n",
      "/Users/matthewhwang/Galvanize/fightclub/data/staging/Left Hook 10 Rahim_2019-11-05T15-58-21.774\n",
      "/Users/matthewhwang/Galvanize/fightclub/data/staging/Left Hook 10 Linh_2019-11-05T17-48-28.253\n",
      "/Users/matthewhwang/Galvanize/fightclub/data/staging/Right Cross 200 Matt Combo LJ_2019-11-09T14-06-43.077\n",
      "/Users/matthewhwang/Galvanize/fightclub/data/staging/Left Jab 50 Matt Combo RH_2019-11-09T14-55-05.994\n",
      "/Users/matthewhwang/Galvanize/fightclub/data/staging/Right Hook 50 Matt Combo LH_2019-11-05T20-56-15.589\n",
      "/Users/matthewhwang/Galvanize/fightclub/data/staging/Left Hook 100 Matt RH_2019-11-05T20-43-00.102\n",
      "/Users/matthewhwang/Galvanize/fightclub/data/staging/Right Cross 20 Nathan_2019-11-06T22-03-05.921\n",
      "/Users/matthewhwang/Galvanize/fightclub/data/staging/Left Hook 50 Matt Combc RH_2019-11-09T14-49-22.775\n",
      "/Users/matthewhwang/Galvanize/fightclub/data/staging/Left Jab 100 Matt Combo RC_2019-11-09T13-51-33.558\n",
      "/Users/matthewhwang/Galvanize/fightclub/data/staging/Left Hook 100 Egor RH_2019-11-05T20-36-13.303\n",
      "/Users/matthewhwang/Galvanize/fightclub/data/staging/Right Hook 50 Matt Combo LH_2019-11-09T14-49-37.015\n",
      "/Users/matthewhwang/Galvanize/fightclub/data/staging/Left Hook 100 Matt Combo RH_2019-11-05T20-31-23.367\n",
      "/Users/matthewhwang/Galvanize/fightclub/data/staging/Right Hook 100 Egor Combo LH_2019-11-05T20-36-27.341\n",
      "/Users/matthewhwang/Galvanize/fightclub/data/staging/Left Jab 10 Rahim_2019-11-05T15-57-27.848\n",
      "/Users/matthewhwang/Galvanize/fightclub/data/staging/Right Cross 25 Matt_2019-11-05T17-25-24.291\n",
      "/Users/matthewhwang/Galvanize/fightclub/data/staging/Left Jab 10 Flora_2019-11-05T12-24-30.849\n",
      "/Users/matthewhwang/Galvanize/fightclub/data/staging/Left Hook 60 Matt Combc RH_2019-11-09T14-36-28.946\n",
      "/Users/matthewhwang/Galvanize/fightclub/data/staging/Left Hook 10 Flora_2019-11-05T12-25-32.814\n",
      "/Users/matthewhwang/Galvanize/fightclub/data/staging/Right Cross 100 Matt Combo LJ_2019-11-05T20-19-24.131\n",
      "/Users/matthewhwang/Galvanize/fightclub/data/staging/Left Jab 25 Aaron_2019-11-05T14-11-05.987\n",
      "/Users/matthewhwang/Galvanize/fightclub/data/staging/Right Hook 100 Matt Combo LH_2019-11-05T20-43-18.421\n",
      "/Users/matthewhwang/Galvanize/fightclub/data/staging/Right Cross 20 Nina_2019-11-06T22-05-15.958\n",
      "/Users/matthewhwang/Galvanize/fightclub/data/staging/Right Cross 200 Matt Combo LJ_2019-11-09T14-21-58.084\n",
      "/Users/matthewhwang/Galvanize/fightclub/data/staging/Left Hook 100 Egor Combo RH_2019-11-05T20-48-24.778\n",
      "/Users/matthewhwang/Galvanize/fightclub/data/staging/Left Jab 10 Matt_2019-11-05T11-59-58.108\n",
      "/Users/matthewhwang/Galvanize/fightclub/data/staging/Right Hook 50 Egor Combo LJ_2019-11-05T21-05-58.747\n",
      "/Users/matthewhwang/Galvanize/fightclub/data/staging/Left Hook 50 Matt Combo RH_2019-11-05T20-56-30.796\n",
      "/Users/matthewhwang/Galvanize/fightclub/data/staging/Left Hook 10 Lea_2019-11-05T11-53-28.314\n",
      "/Users/matthewhwang/Galvanize/fightclub/data/staging/Left Jab 200 Matt Combo RC_2019-11-09T14-22-13.345\n",
      "/Users/matthewhwang/Galvanize/fightclub/data/staging/Left Hook 25 Matt Combc RH_2019-11-09T14-33-09.615\n",
      "Stored Left Jab 100 win8 - 11.10.2019, 01.04.29.100711 successfully\n",
      "Stored Left Jab 10 win8 - 11.10.2019, 01.04.29.141295 successfully\n",
      "Stored Right Hook 50 win8 - 11.10.2019, 01.04.29.197388 successfully\n",
      "Stored Left Jab 50 win8 - 11.10.2019, 01.04.29.257577 successfully\n",
      "Stored Left Jab 200 win8 - 11.10.2019, 01.04.29.386715 successfully\n",
      "Stored Right Hook 90 win8 - 11.10.2019, 01.04.29.547914 successfully\n",
      "Stored Left Hook 50 win8 - 11.10.2019, 01.04.29.607367 successfully\n",
      "Stored Left Hook 10 win8 - 11.10.2019, 01.04.29.637795 successfully\n",
      "Stored Left Jab 25 win8 - 11.10.2019, 01.04.29.685361 successfully\n",
      "Stored Left Jab 50 win8 - 11.10.2019, 01.04.29.740780 successfully\n",
      "Stored Right Cross 50 win8 - 11.10.2019, 01.04.29.799581 successfully\n",
      "Stored Right Cross 50 win8 - 11.10.2019, 01.04.29.866164 successfully\n",
      "Stored Right Cross 100 win8 - 11.10.2019, 01.04.29.974094 successfully\n"
     ]
    },
    {
     "name": "stdout",
     "output_type": "stream",
     "text": [
      "Stored Left Jab 100 win8 - 11.10.2019, 01.04.30.073512 successfully\n",
      "Stored Right Hook 100 win8 - 11.10.2019, 01.04.30.182203 successfully\n",
      "Stored Right Cross 100 win8 - 11.10.2019, 01.04.30.406211 successfully\n",
      "Stored Right Hook 50 win8 - 11.10.2019, 01.04.30.476388 successfully\n",
      "Stored Left Jab 20 win8 - 11.10.2019, 01.04.30.516603 successfully\n",
      "Stored Left Hook 11 win8 - 11.10.2019, 01.04.30.554258 successfully\n",
      "Stored Right Cross 200 win8 - 11.10.2019, 01.04.30.818320 successfully\n",
      "Stored Left Jab 25 win8 - 11.10.2019, 01.04.30.899049 successfully\n",
      "Stored Right Cross 10 win8 - 11.10.2019, 01.04.30.928186 successfully\n",
      "Stored Left Jab 25 win8 - 11.10.2019, 01.04.30.972459 successfully\n",
      "Stored Left Jab 10 win8 - 11.10.2019, 01.04.31.036857 successfully\n",
      "Stored Right Cross 25 win8 - 11.10.2019, 01.04.31.102482 successfully\n",
      "Stored Left Jab 10 win8 - 11.10.2019, 01.04.31.149419 successfully\n",
      "Stored Right Cross 25 win8 - 11.10.2019, 01.04.31.205455 successfully\n",
      "Stored Left Hook 90 win8 - 11.10.2019, 01.04.31.334295 successfully\n",
      "Stored Right Cross 10 win8 - 11.10.2019, 01.04.31.379596 successfully\n",
      "Stored Left Hook 10 win8 - 11.10.2019, 01.04.31.413694 successfully\n",
      "Stored Left Jab 10 win8 - 11.10.2019, 01.04.31.462912 successfully\n",
      "Stored Left Hook 10 win8 - 11.10.2019, 01.04.31.504917 successfully\n",
      "Stored Left Hook 100 win8 - 11.10.2019, 01.04.31.637014 successfully\n",
      "Stored Left Jab 10 win8 - 11.10.2019, 01.04.31.702416 successfully\n",
      "Stored Right Cross 25 win8 - 11.10.2019, 01.04.31.745717 successfully\n",
      "Stored Left Jab 20 win8 - 11.10.2019, 01.04.31.802360 successfully\n",
      "Stored Left Hook 25 win8 - 11.10.2019, 01.04.31.866674 successfully\n",
      "Stored Left Hook 20 win8 - 11.10.2019, 01.04.31.926776 successfully\n",
      "Stored Left Jab 200 win8 - 11.10.2019, 01.04.32.064070 successfully\n",
      "Stored Left Jab 20 win8 - 11.10.2019, 01.04.32.141347 successfully\n",
      "Stored Left Hook 50 win8 - 11.10.2019, 01.04.32.250295 successfully\n",
      "Stored Left Hook 20 win8 - 11.10.2019, 01.04.32.317608 successfully\n",
      "Stored Left Hook 50 win8 - 11.10.2019, 01.04.32.398850 successfully\n",
      "Stored Left Hook 10 win8 - 11.10.2019, 01.04.32.449719 successfully\n",
      "Stored Left Hook 10 win8 - 11.10.2019, 01.04.32.477689 successfully\n",
      "Stored Right Cross 200 win8 - 11.10.2019, 01.04.32.672451 successfully\n",
      "Stored Left Jab 50 win8 - 11.10.2019, 01.04.32.809590 successfully\n",
      "Stored Right Hook 50 win8 - 11.10.2019, 01.04.32.890065 successfully\n",
      "Stored Left Hook 100 win8 - 11.10.2019, 01.04.32.996846 successfully\n",
      "Stored Right Cross 20 win8 - 11.10.2019, 01.04.33.056561 successfully\n",
      "Stored Left Hook 50 win8 - 11.10.2019, 01.04.33.163095 successfully\n",
      "Stored Left Jab 100 win8 - 11.10.2019, 01.04.33.296717 successfully\n",
      "Stored Left Hook 100 win8 - 11.10.2019, 01.04.33.464211 successfully\n",
      "Stored Right Hook 50 win8 - 11.10.2019, 01.04.33.593271 successfully\n",
      "Stored Left Hook 100 win8 - 11.10.2019, 01.04.33.731372 successfully\n",
      "Stored Right Hook 100 win8 - 11.10.2019, 01.04.33.904160 successfully\n",
      "Stored Left Jab 10 win8 - 11.10.2019, 01.04.33.963290 successfully\n",
      "Stored Right Cross 25 win8 - 11.10.2019, 01.04.34.047103 successfully\n",
      "Stored Left Jab 10 win8 - 11.10.2019, 01.04.34.093759 successfully\n",
      "Stored Left Hook 60 win8 - 11.10.2019, 01.04.34.251373 successfully\n",
      "Stored Left Hook 11 win8 - 11.10.2019, 01.04.34.309936 successfully\n",
      "Stored Right Cross 100 win8 - 11.10.2019, 01.04.34.429306 successfully\n",
      "Stored Left Jab 25 win8 - 11.10.2019, 01.04.34.506532 successfully\n",
      "Stored Right Hook 100 win8 - 11.10.2019, 01.04.34.625938 successfully\n",
      "Stored Right Cross 20 win8 - 11.10.2019, 01.04.34.689661 successfully\n",
      "Stored Right Cross 200 win8 - 11.10.2019, 01.04.34.839740 successfully\n",
      "Stored Left Hook 100 win8 - 11.10.2019, 01.04.34.961949 successfully\n",
      "Stored Left Jab 10 win8 - 11.10.2019, 01.04.35.006112 successfully\n",
      "Stored Right Hook 50 win8 - 11.10.2019, 01.04.35.066811 successfully\n",
      "Stored Left Hook 50 win8 - 11.10.2019, 01.04.35.136625 successfully\n",
      "Stored Left Hook 10 win8 - 11.10.2019, 01.04.35.188389 successfully\n",
      "Stored Left Jab 200 win8 - 11.10.2019, 01.04.35.344326 successfully\n",
      "Stored Left Hook 25 win8 - 11.10.2019, 01.04.35.428763 successfully\n",
      "Finished\n"
     ]
    }
   ],
   "source": [
    "process_staging()"
   ]
  },
  {
   "cell_type": "code",
   "execution_count": null,
   "metadata": {},
   "outputs": [],
   "source": []
  },
  {
   "cell_type": "markdown",
   "metadata": {},
   "source": [
    "## Move newly processed data to processed/load_data directory"
   ]
  },
  {
   "cell_type": "code",
   "execution_count": 3,
   "metadata": {},
   "outputs": [
    {
     "name": "stdout",
     "output_type": "stream",
     "text": [
      "Load Data Begin\n",
      "Completed\n",
      "4162 events included\n"
     ]
    }
   ],
   "source": [
    "X,y = load_data()"
   ]
  },
  {
   "cell_type": "code",
   "execution_count": 4,
   "metadata": {},
   "outputs": [
    {
     "data": {
      "text/plain": [
       "1.2551657856799616"
      ]
     },
     "execution_count": 4,
     "metadata": {},
     "output_type": "execute_result"
    }
   ],
   "source": [
    "y.mean()"
   ]
  },
  {
   "cell_type": "code",
   "execution_count": 5,
   "metadata": {},
   "outputs": [],
   "source": [
    "X_train, X_test, y_train, y_test = train_test_split(X, y, test_size=0.3, random_state=42, stratify=y)"
   ]
  },
  {
   "cell_type": "code",
   "execution_count": 6,
   "metadata": {},
   "outputs": [],
   "source": [
    "BATCH_SIZE = 20\n",
    "BUFFER_SIZE = 10000"
   ]
  },
  {
   "cell_type": "code",
   "execution_count": 7,
   "metadata": {},
   "outputs": [],
   "source": [
    "train_data = tf.data.Dataset.from_tensor_slices((X_train, y_train))\n",
    "train_data = train_data.cache().shuffle(BUFFER_SIZE).batch(BATCH_SIZE).repeat()\n",
    "\n",
    "val_data = tf.data.Dataset.from_tensor_slices((X_test, y_test))\n",
    "val_data = val_data.batch(BATCH_SIZE).repeat()"
   ]
  },
  {
   "cell_type": "code",
   "execution_count": 1,
   "metadata": {},
   "outputs": [
    {
     "ename": "NameError",
     "evalue": "name 'tf' is not defined",
     "output_type": "error",
     "traceback": [
      "\u001b[0;31m---------------------------------------------------------------------------\u001b[0m",
      "\u001b[0;31mNameError\u001b[0m                                 Traceback (most recent call last)",
      "\u001b[0;32m<ipython-input-1-306c49809395>\u001b[0m in \u001b[0;36m<module>\u001b[0;34m\u001b[0m\n\u001b[0;32m----> 1\u001b[0;31m \u001b[0mmodel\u001b[0m \u001b[0;34m=\u001b[0m \u001b[0mtf\u001b[0m\u001b[0;34m.\u001b[0m\u001b[0mkeras\u001b[0m\u001b[0;34m.\u001b[0m\u001b[0mmodels\u001b[0m\u001b[0;34m.\u001b[0m\u001b[0mSequential\u001b[0m\u001b[0;34m(\u001b[0m\u001b[0;34m)\u001b[0m\u001b[0;34m\u001b[0m\u001b[0;34m\u001b[0m\u001b[0m\n\u001b[0m\u001b[1;32m      2\u001b[0m \u001b[0mmodel\u001b[0m\u001b[0;34m.\u001b[0m\u001b[0madd\u001b[0m\u001b[0;34m(\u001b[0m\u001b[0mtf\u001b[0m\u001b[0;34m.\u001b[0m\u001b[0mkeras\u001b[0m\u001b[0;34m.\u001b[0m\u001b[0mlayers\u001b[0m\u001b[0;34m.\u001b[0m\u001b[0mLSTM\u001b[0m\u001b[0;34m(\u001b[0m\u001b[0;36m32\u001b[0m\u001b[0;34m,\u001b[0m\u001b[0minput_shape\u001b[0m\u001b[0;34m=\u001b[0m\u001b[0mX_train\u001b[0m\u001b[0;34m.\u001b[0m\u001b[0mshape\u001b[0m\u001b[0;34m[\u001b[0m\u001b[0;34m-\u001b[0m\u001b[0;36m2\u001b[0m\u001b[0;34m:\u001b[0m\u001b[0;34m]\u001b[0m\u001b[0;34m,\u001b[0m\u001b[0mreturn_sequences\u001b[0m\u001b[0;34m=\u001b[0m\u001b[0;32mTrue\u001b[0m\u001b[0;34m,\u001b[0m\u001b[0mdropout\u001b[0m\u001b[0;34m=\u001b[0m\u001b[0;36m0.5\u001b[0m\u001b[0;34m,\u001b[0m\u001b[0mactivation\u001b[0m\u001b[0;34m=\u001b[0m\u001b[0;34m\"softmax\"\u001b[0m\u001b[0;34m)\u001b[0m\u001b[0;34m)\u001b[0m\u001b[0;34m\u001b[0m\u001b[0;34m\u001b[0m\u001b[0m\n\u001b[1;32m      3\u001b[0m \u001b[0mmodel\u001b[0m\u001b[0;34m.\u001b[0m\u001b[0madd\u001b[0m\u001b[0;34m(\u001b[0m\u001b[0mtf\u001b[0m\u001b[0;34m.\u001b[0m\u001b[0mkeras\u001b[0m\u001b[0;34m.\u001b[0m\u001b[0mlayers\u001b[0m\u001b[0;34m.\u001b[0m\u001b[0mDropout\u001b[0m\u001b[0;34m(\u001b[0m\u001b[0;36m0.5\u001b[0m\u001b[0;34m)\u001b[0m\u001b[0;34m)\u001b[0m\u001b[0;34m\u001b[0m\u001b[0;34m\u001b[0m\u001b[0m\n\u001b[1;32m      4\u001b[0m \u001b[0mmodel\u001b[0m\u001b[0;34m.\u001b[0m\u001b[0madd\u001b[0m\u001b[0;34m(\u001b[0m\u001b[0mtf\u001b[0m\u001b[0;34m.\u001b[0m\u001b[0mkeras\u001b[0m\u001b[0;34m.\u001b[0m\u001b[0mlayers\u001b[0m\u001b[0;34m.\u001b[0m\u001b[0mLSTM\u001b[0m\u001b[0;34m(\u001b[0m\u001b[0;36m32\u001b[0m\u001b[0;34m,\u001b[0m\u001b[0minput_shape\u001b[0m\u001b[0;34m=\u001b[0m\u001b[0mX_train\u001b[0m\u001b[0;34m.\u001b[0m\u001b[0mshape\u001b[0m\u001b[0;34m[\u001b[0m\u001b[0;34m-\u001b[0m\u001b[0;36m2\u001b[0m\u001b[0;34m:\u001b[0m\u001b[0;34m]\u001b[0m\u001b[0;34m,\u001b[0m\u001b[0mdropout\u001b[0m\u001b[0;34m=\u001b[0m\u001b[0;36m0.5\u001b[0m\u001b[0;34m,\u001b[0m\u001b[0mactivation\u001b[0m\u001b[0;34m=\u001b[0m\u001b[0;34m\"softmax\"\u001b[0m\u001b[0;34m)\u001b[0m\u001b[0;34m)\u001b[0m\u001b[0;34m\u001b[0m\u001b[0;34m\u001b[0m\u001b[0m\n\u001b[1;32m      5\u001b[0m \u001b[0mmodel\u001b[0m\u001b[0;34m.\u001b[0m\u001b[0madd\u001b[0m\u001b[0;34m(\u001b[0m\u001b[0mtf\u001b[0m\u001b[0;34m.\u001b[0m\u001b[0mkeras\u001b[0m\u001b[0;34m.\u001b[0m\u001b[0mlayers\u001b[0m\u001b[0;34m.\u001b[0m\u001b[0mDense\u001b[0m\u001b[0;34m(\u001b[0m\u001b[0;36m4\u001b[0m\u001b[0;34m,\u001b[0m\u001b[0mactivation\u001b[0m\u001b[0;34m=\u001b[0m\u001b[0;34m\"softmax\"\u001b[0m\u001b[0;34m)\u001b[0m\u001b[0;34m)\u001b[0m\u001b[0;34m\u001b[0m\u001b[0;34m\u001b[0m\u001b[0m\n",
      "\u001b[0;31mNameError\u001b[0m: name 'tf' is not defined"
     ]
    }
   ],
   "source": [
    "model = tf.keras.models.Sequential()\n",
    "model.add(tf.keras.layers.LSTM(32,input_shape=X_train.shape[-2:],return_sequences=True,dropout=0.5,activation=\"softmax\"))\n",
    "model.add(tf.keras.layers.Dropout(0.5))\n",
    "model.add(tf.keras.layers.LSTM(32,input_shape=X_train.shape[-2:],dropout=0.5,activation=\"softmax\"))\n",
    "model.add(tf.keras.layers.Dense(4,activation=\"softmax\"))\n",
    "\n",
    "model.compile(optimizer='rmsprop', loss='sparse_categorical_crossentropy', metrics=['accuracy'])"
   ]
  },
  {
   "cell_type": "code",
   "execution_count": 15,
   "metadata": {},
   "outputs": [
    {
     "name": "stdout",
     "output_type": "stream",
     "text": [
      "Train for 200 steps, validate for 50 steps\n",
      "Epoch 1/50\n",
      "200/200 [==============================] - 6s 32ms/step - loss: 0.7615 - accuracy: 0.7278 - val_loss: 0.4799 - val_accuracy: 0.8870\n",
      "Epoch 2/50\n",
      "200/200 [==============================] - 6s 32ms/step - loss: 0.7753 - accuracy: 0.7120 - val_loss: 0.4750 - val_accuracy: 0.8930\n",
      "Epoch 3/50\n",
      "200/200 [==============================] - 6s 32ms/step - loss: 0.7551 - accuracy: 0.7316 - val_loss: 0.4458 - val_accuracy: 0.9310\n",
      "Epoch 4/50\n",
      "200/200 [==============================] - 6s 31ms/step - loss: 0.7548 - accuracy: 0.7265 - val_loss: 0.4372 - val_accuracy: 0.9330\n",
      "Epoch 5/50\n",
      "200/200 [==============================] - 6s 32ms/step - loss: 0.7401 - accuracy: 0.7350 - val_loss: 0.4243 - val_accuracy: 0.9460\n",
      "Epoch 6/50\n",
      "200/200 [==============================] - 6s 32ms/step - loss: 0.7585 - accuracy: 0.7373 - val_loss: 0.4283 - val_accuracy: 0.9480\n",
      "Epoch 7/50\n",
      "200/200 [==============================] - 6s 32ms/step - loss: 0.7448 - accuracy: 0.7420 - val_loss: 0.4249 - val_accuracy: 0.9370\n",
      "Epoch 8/50\n",
      "200/200 [==============================] - 6s 32ms/step - loss: 0.7112 - accuracy: 0.7483 - val_loss: 0.4232 - val_accuracy: 0.9340\n",
      "Epoch 9/50\n",
      "200/200 [==============================] - 6s 32ms/step - loss: 0.7091 - accuracy: 0.7479 - val_loss: 0.4136 - val_accuracy: 0.9400\n",
      "Epoch 10/50\n",
      "200/200 [==============================] - 6s 32ms/step - loss: 0.7188 - accuracy: 0.7513 - val_loss: 0.4218 - val_accuracy: 0.9280\n",
      "Epoch 11/50\n",
      "200/200 [==============================] - 6s 32ms/step - loss: 0.6986 - accuracy: 0.7531 - val_loss: 0.4184 - val_accuracy: 0.9300\n",
      "Epoch 12/50\n",
      "200/200 [==============================] - 6s 32ms/step - loss: 0.7067 - accuracy: 0.7561 - val_loss: 0.4106 - val_accuracy: 0.9440\n",
      "Epoch 13/50\n",
      "200/200 [==============================] - 6s 32ms/step - loss: 0.6880 - accuracy: 0.7613 - val_loss: 0.4023 - val_accuracy: 0.9500\n",
      "Epoch 14/50\n",
      "200/200 [==============================] - 6s 32ms/step - loss: 0.6949 - accuracy: 0.7649 - val_loss: 0.4051 - val_accuracy: 0.9470\n",
      "Epoch 15/50\n",
      "200/200 [==============================] - 6s 31ms/step - loss: 0.6989 - accuracy: 0.7573 - val_loss: 0.4249 - val_accuracy: 0.9180\n",
      "Epoch 16/50\n",
      "200/200 [==============================] - 6s 31ms/step - loss: 0.6642 - accuracy: 0.7756 - val_loss: 0.3977 - val_accuracy: 0.9480\n",
      "Epoch 17/50\n",
      "200/200 [==============================] - 6s 32ms/step - loss: 0.6945 - accuracy: 0.7644 - val_loss: 0.3923 - val_accuracy: 0.9560\n",
      "Epoch 18/50\n",
      "200/200 [==============================] - 6s 32ms/step - loss: 0.6717 - accuracy: 0.7656 - val_loss: 0.4151 - val_accuracy: 0.9270\n",
      "Epoch 19/50\n",
      "200/200 [==============================] - 6s 32ms/step - loss: 0.6807 - accuracy: 0.7609 - val_loss: 0.4180 - val_accuracy: 0.9230\n",
      "Epoch 20/50\n",
      "200/200 [==============================] - 6s 32ms/step - loss: 0.6622 - accuracy: 0.7791 - val_loss: 0.3998 - val_accuracy: 0.9410\n",
      "Epoch 21/50\n",
      "200/200 [==============================] - 6s 32ms/step - loss: 0.6730 - accuracy: 0.7749 - val_loss: 0.3956 - val_accuracy: 0.9500\n",
      "Epoch 22/50\n",
      "200/200 [==============================] - 6s 32ms/step - loss: 0.6695 - accuracy: 0.7684 - val_loss: 0.4092 - val_accuracy: 0.9250\n",
      "Epoch 23/50\n",
      "200/200 [==============================] - 6s 32ms/step - loss: 0.6827 - accuracy: 0.7616 - val_loss: 0.4097 - val_accuracy: 0.9200\n",
      "Epoch 24/50\n",
      "200/200 [==============================] - 6s 32ms/step - loss: 0.6678 - accuracy: 0.7678 - val_loss: 0.3818 - val_accuracy: 0.9540\n",
      "Epoch 25/50\n",
      "200/200 [==============================] - 6s 32ms/step - loss: 0.6684 - accuracy: 0.7692 - val_loss: 0.4046 - val_accuracy: 0.9280\n",
      "Epoch 26/50\n",
      "200/200 [==============================] - 6s 32ms/step - loss: 0.6760 - accuracy: 0.7671 - val_loss: 0.4004 - val_accuracy: 0.9310\n",
      "Epoch 27/50\n",
      "200/200 [==============================] - 6s 32ms/step - loss: 0.6547 - accuracy: 0.7836 - val_loss: 0.4030 - val_accuracy: 0.9240\n",
      "Epoch 28/50\n",
      "200/200 [==============================] - 6s 32ms/step - loss: 0.6800 - accuracy: 0.7699 - val_loss: 0.3878 - val_accuracy: 0.9480\n",
      "Epoch 29/50\n",
      "200/200 [==============================] - 7s 35ms/step - loss: 0.6517 - accuracy: 0.7786 - val_loss: 0.3918 - val_accuracy: 0.9350\n",
      "Epoch 30/50\n",
      "200/200 [==============================] - 6s 32ms/step - loss: 0.6604 - accuracy: 0.7845 - val_loss: 0.3773 - val_accuracy: 0.9490\n",
      "Epoch 31/50\n",
      "200/200 [==============================] - 7s 33ms/step - loss: 0.6589 - accuracy: 0.7834 - val_loss: 0.4012 - val_accuracy: 0.9290\n",
      "Epoch 32/50\n",
      "200/200 [==============================] - 6s 32ms/step - loss: 0.6648 - accuracy: 0.7751 - val_loss: 0.3768 - val_accuracy: 0.9470\n",
      "Epoch 33/50\n",
      "200/200 [==============================] - 6s 32ms/step - loss: 0.6233 - accuracy: 0.7948 - val_loss: 0.3878 - val_accuracy: 0.9330\n",
      "Epoch 34/50\n",
      "200/200 [==============================] - 6s 32ms/step - loss: 0.6643 - accuracy: 0.7731 - val_loss: 0.3949 - val_accuracy: 0.9290\n",
      "Epoch 35/50\n",
      "200/200 [==============================] - 6s 32ms/step - loss: 0.6459 - accuracy: 0.7786 - val_loss: 0.3591 - val_accuracy: 0.9580\n",
      "Epoch 36/50\n",
      "200/200 [==============================] - 6s 31ms/step - loss: 0.6719 - accuracy: 0.7717 - val_loss: 0.3947 - val_accuracy: 0.9330\n",
      "Epoch 37/50\n",
      "200/200 [==============================] - 6s 31ms/step - loss: 0.6256 - accuracy: 0.7906 - val_loss: 0.3792 - val_accuracy: 0.9380\n",
      "Epoch 38/50\n",
      "200/200 [==============================] - 6s 31ms/step - loss: 0.6391 - accuracy: 0.7903 - val_loss: 0.3892 - val_accuracy: 0.9320\n",
      "Epoch 39/50\n",
      "200/200 [==============================] - 7s 37ms/step - loss: 0.6458 - accuracy: 0.7866 - val_loss: 0.3764 - val_accuracy: 0.9430\n",
      "Epoch 40/50\n",
      "200/200 [==============================] - 7s 37ms/step - loss: 0.6395 - accuracy: 0.7911 - val_loss: 0.3632 - val_accuracy: 0.9520\n",
      "Epoch 41/50\n",
      "200/200 [==============================] - 6s 31ms/step - loss: 0.6302 - accuracy: 0.7890 - val_loss: 0.3768 - val_accuracy: 0.9410\n",
      "Epoch 42/50\n",
      "200/200 [==============================] - 8s 41ms/step - loss: 0.6254 - accuracy: 0.7916 - val_loss: 0.3551 - val_accuracy: 0.9520\n",
      "Epoch 43/50\n",
      "200/200 [==============================] - 7s 37ms/step - loss: 0.6245 - accuracy: 0.7931 - val_loss: 0.3482 - val_accuracy: 0.9550\n",
      "Epoch 44/50\n",
      "200/200 [==============================] - 7s 35ms/step - loss: 0.6078 - accuracy: 0.8028 - val_loss: 0.3550 - val_accuracy: 0.9450\n",
      "Epoch 45/50\n",
      "200/200 [==============================] - 7s 33ms/step - loss: 0.6247 - accuracy: 0.7909 - val_loss: 0.3404 - val_accuracy: 0.9600\n",
      "Epoch 46/50\n",
      "200/200 [==============================] - 7s 35ms/step - loss: 0.6156 - accuracy: 0.7908 - val_loss: 0.3452 - val_accuracy: 0.9530\n",
      "Epoch 47/50\n",
      "200/200 [==============================] - 7s 36ms/step - loss: 0.6038 - accuracy: 0.7994 - val_loss: 0.3426 - val_accuracy: 0.9540\n",
      "Epoch 48/50\n",
      "200/200 [==============================] - 7s 34ms/step - loss: 0.6098 - accuracy: 0.8034 - val_loss: 0.3471 - val_accuracy: 0.9490\n",
      "Epoch 49/50\n",
      "200/200 [==============================] - 6s 32ms/step - loss: 0.5987 - accuracy: 0.8093 - val_loss: 0.3441 - val_accuracy: 0.9480\n",
      "Epoch 50/50\n",
      "200/200 [==============================] - 7s 34ms/step - loss: 0.6081 - accuracy: 0.7999 - val_loss: 0.3441 - val_accuracy: 0.9520\n"
     ]
    }
   ],
   "source": [
    "EVALUATION_INTERVAL = 200\n",
    "EPOCHS = 50\n",
    "history = model.fit(train_data, epochs=EPOCHS,\n",
    "                                            steps_per_epoch=EVALUATION_INTERVAL,\n",
    "                                            validation_data=val_data,\n",
    "                                            validation_steps=50)"
   ]
  },
  {
   "cell_type": "code",
   "execution_count": 14,
   "metadata": {},
   "outputs": [
    {
     "data": {
      "image/png": "[encoded data removed]",
      "text/plain": [
       "<Figure size 432x288 with 1 Axes>"
      ]
     },
     "metadata": {
      "needs_background": "light"
     },
     "output_type": "display_data"
    }
   ],
   "source": [
    "plt.plot(history.history['loss'])\n",
    "plt.plot(history.history['val_loss'])\n",
    "plt.title('model loss')\n",
    "plt.ylabel('loss')\n",
    "plt.xlabel('epoch')\n",
    "plt.legend(['train', 'test'], loc='upper left')\n",
    "plt.show()"
   ]
  },
  {
   "cell_type": "code",
   "execution_count": 11,
   "metadata": {},
   "outputs": [
    {
     "data": {
      "text/plain": [
       "array([[0.21205431, 0.08141295, 0.6778231 , 0.02870967],\n",
       "       [0.35766506, 0.35657832, 0.11621221, 0.16954432],\n",
       "       [0.3539433 , 0.22146189, 0.33538264, 0.0892122 ],\n",
       "       ...,\n",
       "       [0.3381019 , 0.20004198, 0.3810265 , 0.08082958],\n",
       "       [0.34028247, 0.38433072, 0.08239315, 0.19299364],\n",
       "       [0.33213115, 0.39335158, 0.07039518, 0.20412216]], dtype=float32)"
      ]
     },
     "execution_count": 11,
     "metadata": {},
     "output_type": "execute_result"
    }
   ],
   "source": [
    "model.predict(X_test)"
   ]
  },
  {
   "cell_type": "code",
   "execution_count": 12,
   "metadata": {},
   "outputs": [
    {
     "data": {
      "text/plain": [
       "array([2, 1, 0, ..., 0, 1, 1])"
      ]
     },
     "execution_count": 12,
     "metadata": {},
     "output_type": "execute_result"
    }
   ],
   "source": [
    "y_test"
   ]
  },
  {
   "cell_type": "code",
   "execution_count": 18,
   "metadata": {},
   "outputs": [
    {
     "data": {
      "text/plain": [
       "tensorflow.python.keras.engine.sequential.Sequential"
      ]
     },
     "execution_count": 18,
     "metadata": {},
     "output_type": "execute_result"
    }
   ],
   "source": [
    "type(model)"
   ]
  },
  {
   "cell_type": "code",
   "execution_count": 19,
   "metadata": {},
   "outputs": [
    {
     "name": "stdout",
     "output_type": "stream",
     "text": [
      "Model: \"sequential\"\n",
      "_________________________________________________________________\n",
      "Layer (type)                 Output Shape              Param #   \n",
      "=================================================================\n",
      "lstm (LSTM)                  (None, 17, 32)            4992      \n",
      "_________________________________________________________________\n",
      "dropout (Dropout)            (None, 17, 32)            0         \n",
      "_________________________________________________________________\n",
      "lstm_1 (LSTM)                (None, 32)                8320      \n",
      "_________________________________________________________________\n",
      "dense (Dense)                (None, 4)                 132       \n",
      "=================================================================\n",
      "Total params: 13,444\n",
      "Trainable params: 13,444\n",
      "Non-trainable params: 0\n",
      "_________________________________________________________________\n"
     ]
    }
   ],
   "source": [
    "model.summary()"
   ]
  },
  {
   "cell_type": "code",
   "execution_count": 27,
   "metadata": {},
   "outputs": [],
   "source": [
    "model.save('my_model.h5') "
   ]
  },
  {
   "cell_type": "code",
   "execution_count": 28,
   "metadata": {},
   "outputs": [],
   "source": [
    "new_model = tf.keras.models.load_model('my_model.h5')"
   ]
  },
  {
   "cell_type": "code",
   "execution_count": null,
   "metadata": {},
   "outputs": [],
   "source": []
  }
 ],
 "metadata": {
  "kernelspec": {
   "display_name": "Python 3",
   "language": "python",
   "name": "python3"
  },
  "language_info": {
   "codemirror_mode": {
    "name": "ipython",
    "version": 3
   },
   "file_extension": ".py",
   "mimetype": "text/x-python",
   "name": "python",
   "nbconvert_exporter": "python",
   "pygments_lexer": "ipython3",
   "version": "3.7.3"
  }
 },
 "nbformat": 4,
 "nbformat_minor": 2
}
