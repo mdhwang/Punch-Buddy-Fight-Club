{
 "cells": [
  {
   "cell_type": "code",
   "execution_count": 5,
   "metadata": {},
   "outputs": [
    {
     "name": "stderr",
     "output_type": "stream",
     "text": [
      "/Users/matthewhwang/anaconda3/lib/python3.7/importlib/_bootstrap.py:219: RuntimeWarning: numpy.ufunc size changed, may indicate binary incompatibility. Expected 216, got 192\n",
      "  return f(*args, **kwds)\n",
      "/Users/matthewhwang/anaconda3/lib/python3.7/importlib/_bootstrap.py:219: RuntimeWarning: numpy.ufunc size changed, may indicate binary incompatibility. Expected 192 from C header, got 216 from PyObject\n",
      "  return f(*args, **kwds)\n",
      "/Users/matthewhwang/anaconda3/lib/python3.7/importlib/_bootstrap.py:219: RuntimeWarning: numpy.ufunc size changed, may indicate binary incompatibility. Expected 192 from C header, got 216 from PyObject\n",
      "  return f(*args, **kwds)\n",
      "/Users/matthewhwang/anaconda3/lib/python3.7/importlib/_bootstrap.py:219: RuntimeWarning: numpy.ufunc size changed, may indicate binary incompatibility. Expected 192 from C header, got 216 from PyObject\n",
      "  return f(*args, **kwds)\n"
     ]
    }
   ],
   "source": [
    "from __future__ import absolute_import, division, print_function, unicode_literals\n",
    "import tensorflow as tf\n",
    "\n",
    "from load_data import *\n",
    "from clean_data import *\n",
    "\n",
    "import warnings\n",
    "warnings.filterwarnings('ignore')\n",
    "\n",
    "\n",
    "import matplotlib as mpl\n",
    "import matplotlib.pyplot as plt\n",
    "import numpy as np\n",
    "import os\n",
    "import pandas as pd\n",
    "\n",
    "import seaborn as sb\n",
    "\n",
    "from sklearn.model_selection import train_test_split\n"
   ]
  },
  {
   "cell_type": "code",
   "execution_count": 6,
   "metadata": {},
   "outputs": [
    {
     "name": "stdout",
     "output_type": "stream",
     "text": [
      "Load Data Begin\n"
     ]
    }
   ],
   "source": [
    "X,y = load_data()"
   ]
  },
  {
   "cell_type": "code",
   "execution_count": 8,
   "metadata": {},
   "outputs": [],
   "source": [
    "X_train, X_test, y_train, y_test = train_test_split(X, y, test_size=0.3, random_state=42, stratify=y)"
   ]
  },
  {
   "cell_type": "code",
   "execution_count": 9,
   "metadata": {},
   "outputs": [],
   "source": [
    "BATCH_SIZE = 20\n",
    "BUFFER_SIZE = 10000"
   ]
  },
  {
   "cell_type": "code",
   "execution_count": 10,
   "metadata": {},
   "outputs": [],
   "source": [
    "train_data = tf.data.Dataset.from_tensor_slices((X_train, y_train))\n",
    "train_data = train_data.cache().shuffle(BUFFER_SIZE).batch(BATCH_SIZE).repeat()\n",
    "\n",
    "val_data = tf.data.Dataset.from_tensor_slices((X_test, y_test))\n",
    "val_data = val_data.batch(BATCH_SIZE).repeat()"
   ]
  },
  {
   "cell_type": "code",
   "execution_count": 11,
   "metadata": {},
   "outputs": [],
   "source": [
    "model = tf.keras.models.Sequential()\n",
    "model.add(tf.keras.layers.LSTM(32,input_shape=X_train.shape[-2:],return_sequences=True,dropout=0.5,activation=\"softmax\"))\n",
    "model.add(tf.keras.layers.Dropout(0.5))\n",
    "model.add(tf.keras.layers.LSTM(32,input_shape=X_train.shape[-2:],dropout=0.5,activation=\"softmax\"))\n",
    "model.add(tf.keras.layers.Dense(4,activation=\"softmax\"))\n",
    "\n",
    "model.compile(optimizer='rmsprop', loss='sparse_categorical_crossentropy', metrics=['accuracy'])"
   ]
  },
  {
   "cell_type": "code",
   "execution_count": 12,
   "metadata": {},
   "outputs": [
    {
     "name": "stdout",
     "output_type": "stream",
     "text": [
      "Train for 200 steps, validate for 50 steps\n",
      "Epoch 1/20\n",
      "200/200 [==============================] - 12s 59ms/step - loss: 1.2633 - accuracy: 0.4825 - val_loss: 1.1415 - val_accuracy: 0.4990\n",
      "Epoch 2/20\n",
      "200/200 [==============================] - 7s 34ms/step - loss: 1.0432 - accuracy: 0.5015 - val_loss: 0.9563 - val_accuracy: 0.4990\n",
      "Epoch 3/20\n",
      "200/200 [==============================] - 7s 33ms/step - loss: 0.8926 - accuracy: 0.4992 - val_loss: 0.8381 - val_accuracy: 0.4990\n",
      "Epoch 4/20\n",
      "200/200 [==============================] - 7s 34ms/step - loss: 0.8010 - accuracy: 0.5010 - val_loss: 0.7696 - val_accuracy: 0.4990\n",
      "Epoch 5/20\n",
      "200/200 [==============================] - 7s 34ms/step - loss: 0.7495 - accuracy: 0.5092 - val_loss: 0.7322 - val_accuracy: 0.5230\n",
      "Epoch 6/20\n",
      "200/200 [==============================] - 7s 33ms/step - loss: 0.7197 - accuracy: 0.6140 - val_loss: 0.7057 - val_accuracy: 0.6830\n",
      "Epoch 7/20\n",
      "200/200 [==============================] - 7s 33ms/step - loss: 0.6939 - accuracy: 0.6942 - val_loss: 0.6752 - val_accuracy: 0.9160\n",
      "Epoch 8/20\n",
      "200/200 [==============================] - 7s 33ms/step - loss: 0.6647 - accuracy: 0.7237 - val_loss: 0.6358 - val_accuracy: 0.9910\n",
      "Epoch 9/20\n",
      "200/200 [==============================] - 7s 34ms/step - loss: 0.6230 - accuracy: 0.7582 - val_loss: 0.5602 - val_accuracy: 0.9910\n",
      "Epoch 10/20\n",
      "200/200 [==============================] - 7s 35ms/step - loss: 0.5490 - accuracy: 0.8232 - val_loss: 0.4384 - val_accuracy: 1.0000\n",
      "Epoch 11/20\n",
      "200/200 [==============================] - 7s 34ms/step - loss: 0.4613 - accuracy: 0.8690 - val_loss: 0.3223 - val_accuracy: 0.9920\n",
      "Epoch 12/20\n",
      "200/200 [==============================] - 7s 33ms/step - loss: 0.3751 - accuracy: 0.8955 - val_loss: 0.2302 - val_accuracy: 0.9920\n",
      "Epoch 13/20\n",
      "200/200 [==============================] - 7s 33ms/step - loss: 0.3287 - accuracy: 0.8995 - val_loss: 0.1789 - val_accuracy: 0.9920\n",
      "Epoch 14/20\n",
      "200/200 [==============================] - 7s 33ms/step - loss: 0.2839 - accuracy: 0.9085 - val_loss: 0.1574 - val_accuracy: 0.9920\n",
      "Epoch 15/20\n",
      "200/200 [==============================] - 7s 33ms/step - loss: 0.2670 - accuracy: 0.9115 - val_loss: 0.1200 - val_accuracy: 0.9920\n",
      "Epoch 16/20\n",
      "200/200 [==============================] - 7s 33ms/step - loss: 0.2414 - accuracy: 0.9202 - val_loss: 0.1309 - val_accuracy: 0.9920\n",
      "Epoch 17/20\n",
      "200/200 [==============================] - 7s 33ms/step - loss: 0.2439 - accuracy: 0.9183 - val_loss: 0.1050 - val_accuracy: 0.9920\n",
      "Epoch 18/20\n",
      "200/200 [==============================] - 7s 34ms/step - loss: 0.2264 - accuracy: 0.9235 - val_loss: 0.0885 - val_accuracy: 0.9920\n",
      "Epoch 19/20\n",
      "200/200 [==============================] - 7s 33ms/step - loss: 0.2137 - accuracy: 0.9260 - val_loss: 0.1037 - val_accuracy: 0.9920\n",
      "Epoch 20/20\n",
      "200/200 [==============================] - 7s 34ms/step - loss: 0.2039 - accuracy: 0.9310 - val_loss: 0.0942 - val_accuracy: 0.9920\n"
     ]
    }
   ],
   "source": [
    "EVALUATION_INTERVAL = 200\n",
    "EPOCHS = 20\n",
    "history = model.fit(train_data, epochs=EPOCHS,\n",
    "                                            steps_per_epoch=EVALUATION_INTERVAL,\n",
    "                                            validation_data=val_data,\n",
    "                                            validation_steps=50)"
   ]
  },
  {
   "cell_type": "code",
   "execution_count": 14,
   "metadata": {},
   "outputs": [
    {
     "data": {
      "image/png": "[encoded data removed]",
      "text/plain": [
       "<Figure size 432x288 with 1 Axes>"
      ]
     },
     "metadata": {
      "needs_background": "light"
     },
     "output_type": "display_data"
    }
   ],
   "source": [
    "plt.plot(history.history['loss'])\n",
    "plt.plot(history.history['val_loss'])\n",
    "plt.title('model loss')\n",
    "plt.ylabel('loss')\n",
    "plt.xlabel('epoch')\n",
    "plt.legend(['train', 'test'], loc='upper left')\n",
    "plt.show()"
   ]
  },
  {
   "cell_type": "code",
   "execution_count": 15,
   "metadata": {},
   "outputs": [
    {
     "data": {
      "text/plain": [
       "array([[4.0586347e-05, 1.3556339e-01, 3.8902890e-05, 8.6435711e-01],\n",
       "       [2.6394488e-05, 9.3684369e-01, 2.1203430e-05, 6.3108757e-02],\n",
       "       [2.6938844e-05, 9.3599331e-01, 2.1659311e-05, 6.3958153e-02],\n",
       "       [3.7434675e-05, 1.1115154e-01, 3.6224053e-05, 8.8877481e-01],\n",
       "       [1.1930187e-05, 1.6373305e-02, 1.3114512e-05, 9.8360163e-01],\n",
       "       [2.6510723e-05, 9.3649048e-01, 2.1301843e-05, 6.3461728e-02],\n",
       "       [4.3978278e-05, 1.6063292e-01, 4.1751002e-05, 8.3928138e-01],\n",
       "       [2.6957196e-05, 9.3564445e-01, 2.1676897e-05, 6.4306974e-02],\n",
       "       [2.7132459e-05, 9.3557149e-01, 2.1822343e-05, 6.4379580e-02],\n",
       "       [2.6571726e-05, 9.3601465e-01, 2.1355523e-05, 6.3937545e-02],\n",
       "       [1.4607498e-05, 2.1625826e-02, 1.5662832e-05, 9.7834384e-01],\n",
       "       [2.4730287e-05, 5.0574332e-02, 2.5006722e-05, 9.4937593e-01],\n",
       "       [2.6596748e-05, 9.3634140e-01, 2.1374064e-05, 6.3610725e-02],\n",
       "       [5.7058227e-05, 3.3976391e-01, 5.2008021e-05, 6.6012704e-01],\n",
       "       [2.0831005e-05, 3.7397321e-02, 2.1452894e-05, 9.6256042e-01],\n",
       "       [2.6807704e-05, 9.3503422e-01, 2.1557138e-05, 6.4917371e-02],\n",
       "       [2.6509621e-05, 9.3622833e-01, 2.1302785e-05, 6.3723728e-02],\n",
       "       [1.9686191e-05, 3.4319315e-02, 2.0409872e-05, 9.6564060e-01],\n",
       "       [2.6511168e-05, 9.3665004e-01, 2.1301204e-05, 6.3302144e-02],\n",
       "       [2.4373243e-05, 4.9148988e-02, 2.4674589e-05, 9.5080197e-01],\n",
       "       [2.1191239e-05, 3.8987812e-02, 2.1791251e-05, 9.6096921e-01],\n",
       "       [5.0562670e-05, 2.2689331e-01, 4.7119927e-05, 7.7300900e-01],\n",
       "       [4.7705867e-05, 1.9716947e-01, 4.4884422e-05, 8.0273789e-01],\n",
       "       [1.4759160e-05, 2.1951422e-02, 1.5808631e-05, 9.7801799e-01],\n",
       "       [2.6598082e-05, 9.3591607e-01, 2.1378011e-05, 6.4036019e-02],\n",
       "       [2.7553579e-05, 9.3323392e-01, 2.2187078e-05, 6.6716358e-02],\n",
       "       [1.3440806e-05, 1.9210575e-02, 1.4556820e-05, 9.8076135e-01],\n",
       "       [2.3592311e-05, 4.5391791e-02, 2.3955838e-05, 9.5456064e-01],\n",
       "       [2.6622487e-05, 9.3601662e-01, 2.1397420e-05, 6.3935310e-02],\n",
       "       [2.7427996e-05, 9.3351960e-01, 2.2080963e-05, 6.6431031e-02],\n",
       "       [2.6533760e-05, 9.3634832e-01, 2.1321859e-05, 6.3603736e-02],\n",
       "       [3.6267818e-05, 1.0667379e-01, 3.5207802e-05, 8.9325476e-01],\n",
       "       [2.6636291e-05, 9.3570745e-01, 2.1410986e-05, 6.4244501e-02],\n",
       "       [1.8008621e-05, 2.9705405e-02, 1.8852312e-05, 9.7025776e-01],\n",
       "       [1.1555987e-05, 1.5700659e-02, 1.2755181e-05, 9.8427504e-01],\n",
       "       [2.6464431e-05, 9.3677580e-01, 2.1261685e-05, 6.3176490e-02],\n",
       "       [5.4416221e-05, 2.8299189e-01, 5.0103186e-05, 7.1690363e-01],\n",
       "       [2.9958655e-05, 7.1365498e-02, 2.9668392e-05, 9.2857486e-01],\n",
       "       [2.6523185e-05, 9.3625897e-01, 2.1313765e-05, 6.3693114e-02],\n",
       "       [2.6757853e-05, 9.3626493e-01, 2.1507716e-05, 6.3686714e-02],\n",
       "       [4.6487246e-05, 1.8351847e-01, 4.3854066e-05, 8.1639117e-01],\n",
       "       [3.9228278e-05, 1.2519781e-01, 3.7775728e-05, 8.7472516e-01],\n",
       "       [2.6763295e-05, 9.3537629e-01, 2.1518103e-05, 6.4575441e-02],\n",
       "       [2.7480604e-05, 6.1239116e-02, 2.7484142e-05, 9.3870586e-01],\n",
       "       [4.8982336e-05, 2.1308614e-01, 4.5851302e-05, 7.8681904e-01],\n",
       "       [3.8541250e-05, 1.2030878e-01, 3.7162979e-05, 8.7961549e-01],\n",
       "       [2.9610268e-05, 6.9948427e-02, 2.9395142e-05, 9.2999256e-01],\n",
       "       [4.5404704e-05, 1.7438687e-01, 4.2938405e-05, 8.2552481e-01],\n",
       "       [2.7041358e-05, 9.3414980e-01, 2.1756563e-05, 6.5801471e-02],\n",
       "       [1.6390346e-05, 2.5488293e-02, 1.7333941e-05, 9.7447801e-01],\n",
       "       [2.6715090e-05, 9.3578011e-01, 2.1475596e-05, 6.4171724e-02],\n",
       "       [2.6485824e-05, 9.3636078e-01, 2.1282120e-05, 6.3591488e-02],\n",
       "       [3.2409032e-05, 8.3177388e-02, 3.1841526e-05, 9.1675842e-01],\n",
       "       [2.6993281e-05, 9.3431997e-01, 2.1715685e-05, 6.5631382e-02],\n",
       "       [5.6543820e-05, 6.6169000e-01, 4.8877275e-05, 3.3820450e-01],\n",
       "       [1.3984022e-05, 2.0246485e-02, 1.5075022e-05, 9.7972441e-01],\n",
       "       [2.6655480e-05, 9.3577981e-01, 2.1426267e-05, 6.4172097e-02],\n",
       "       [2.6966138e-05, 9.3451351e-01, 2.1691989e-05, 6.5437831e-02],\n",
       "       [2.6397349e-05, 9.3696582e-01, 2.1205000e-05, 6.2986672e-02],\n",
       "       [2.6327174e-05, 9.3721223e-01, 2.1145381e-05, 6.2740341e-02],\n",
       "       [2.6442491e-05, 9.3649739e-01, 2.1245396e-05, 6.3454963e-02],\n",
       "       [2.6556670e-05, 9.3628043e-01, 2.1341204e-05, 6.3671678e-02],\n",
       "       [2.8130500e-05, 9.3267745e-01, 2.2669008e-05, 6.7271739e-02],\n",
       "       [1.7165392e-05, 2.7170083e-02, 1.8051594e-05, 9.7279471e-01],\n",
       "       [3.2332540e-05, 8.2474917e-02, 3.1772644e-05, 9.1746098e-01],\n",
       "       [1.2670385e-05, 1.7678104e-02, 1.3820814e-05, 9.8229539e-01],\n",
       "       [2.6464046e-05, 9.3684620e-01, 2.1260890e-05, 6.3106149e-02],\n",
       "       [2.6926671e-05, 9.3450654e-01, 2.1659394e-05, 6.5444924e-02],\n",
       "       [2.6758680e-05, 9.3514365e-01, 2.1515911e-05, 6.4808033e-02],\n",
       "       [2.0525356e-05, 3.6840972e-02, 2.1179607e-05, 9.6311730e-01],\n",
       "       [5.5795197e-05, 3.1282115e-01, 5.1035193e-05, 6.8707204e-01],\n",
       "       [2.6546559e-05, 9.3613017e-01, 2.1334015e-05, 6.3821957e-02],\n",
       "       [4.2769025e-05, 1.5254763e-01, 4.0691255e-05, 8.4736890e-01],\n",
       "       [2.6451433e-05, 9.3692845e-01, 2.1249924e-05, 6.3023888e-02],\n",
       "       [2.6492466e-05, 9.3661338e-01, 2.1285974e-05, 6.3338898e-02],\n",
       "       [2.6668231e-05, 9.3598288e-01, 2.1435639e-05, 6.3969068e-02],\n",
       "       [3.2871303e-05, 8.7310456e-02, 3.2266427e-05, 9.1262442e-01],\n",
       "       [3.3168828e-05, 8.8905491e-02, 3.2520864e-05, 9.1102886e-01],\n",
       "       [3.0604355e-05, 7.5559504e-02, 3.0267047e-05, 9.2437959e-01],\n",
       "       [2.7078737e-05, 9.3492466e-01, 2.1782211e-05, 6.5026470e-02],\n",
       "       [2.7267539e-05, 9.3469793e-01, 2.1940130e-05, 6.5252803e-02],\n",
       "       [2.6604115e-05, 9.3593287e-01, 2.1382779e-05, 6.4019203e-02],\n",
       "       [4.1154250e-05, 1.3945305e-01, 3.9396520e-05, 8.6046642e-01],\n",
       "       [2.5566342e-05, 5.3454697e-02, 2.5746720e-05, 9.4649404e-01],\n",
       "       [4.0483068e-05, 1.3233177e-01, 3.8825772e-05, 8.6758894e-01],\n",
       "       [1.9990548e-05, 3.5246052e-02, 2.0690897e-05, 9.6471322e-01],\n",
       "       [2.6967569e-05, 9.3485719e-01, 2.1690677e-05, 6.5094106e-02],\n",
       "       [1.4982522e-05, 2.2369673e-02, 1.6016136e-05, 9.7759938e-01],\n",
       "       [1.4278118e-05, 2.0831868e-02, 1.5346510e-05, 9.7913855e-01],\n",
       "       [2.6438585e-05, 9.3675029e-01, 2.1240496e-05, 6.3202024e-02],\n",
       "       [2.1330579e-05, 3.8811319e-02, 2.1901031e-05, 9.6114540e-01],\n",
       "       [2.6647760e-05, 9.3595237e-01, 2.1418797e-05, 6.3999496e-02],\n",
       "       [2.6969252e-05, 9.3436474e-01, 2.1695507e-05, 6.5586530e-02],\n",
       "       [2.6658670e-05, 9.3586415e-01, 2.1428425e-05, 6.4087786e-02],\n",
       "       [3.4728215e-05, 9.5926933e-02, 3.3880773e-05, 9.0400445e-01],\n",
       "       [1.7588294e-05, 2.8456561e-02, 1.8451405e-05, 9.7150743e-01],\n",
       "       [2.6953949e-05, 9.3452054e-01, 2.1681748e-05, 6.5430708e-02],\n",
       "       [2.6385125e-05, 9.3699384e-01, 2.1194715e-05, 6.2958568e-02],\n",
       "       [2.6435071e-05, 9.3679643e-01, 2.1237307e-05, 6.3155897e-02],\n",
       "       [2.6481292e-05, 9.3660593e-01, 2.1276794e-05, 6.3346311e-02],\n",
       "       [1.3989766e-05, 2.0250650e-02, 1.5074873e-05, 9.7972029e-01],\n",
       "       [2.6649523e-05, 9.3571609e-01, 2.1421763e-05, 6.4235777e-02],\n",
       "       [2.7663133e-05, 9.3165547e-01, 2.2288619e-05, 6.8294525e-02],\n",
       "       [1.4591730e-05, 2.1568544e-02, 1.5646969e-05, 9.7840124e-01],\n",
       "       [4.8347891e-05, 2.0520933e-01, 4.5343204e-05, 7.9469693e-01],\n",
       "       [2.6291353e-05, 9.3722057e-01, 2.1115664e-05, 6.2731989e-02],\n",
       "       [2.6525649e-05, 9.3633264e-01, 2.1315280e-05, 6.3619435e-02],\n",
       "       [2.6722062e-05, 9.3540323e-01, 2.1483966e-05, 6.4548478e-02],\n",
       "       [2.6599571e-05, 9.3602383e-01, 2.1378411e-05, 6.3928172e-02],\n",
       "       [2.8403285e-05, 9.3126804e-01, 2.2904973e-05, 6.8680741e-02],\n",
       "       [1.7497990e-05, 2.8067973e-02, 1.8360452e-05, 9.7189617e-01],\n",
       "       [2.1831171e-05, 4.0642880e-02, 2.2370312e-05, 9.5931292e-01],\n",
       "       [3.7934024e-05, 1.1622445e-01, 3.6652895e-05, 8.8370091e-01],\n",
       "       [2.6654268e-05, 9.3641573e-01, 2.1421105e-05, 6.3536175e-02],\n",
       "       [1.7233893e-05, 2.7629850e-02, 1.8126897e-05, 9.7233474e-01],\n",
       "       [2.6739875e-05, 9.3568587e-01, 2.1496853e-05, 6.4265832e-02],\n",
       "       [5.6013316e-05, 3.0668974e-01, 5.1295912e-05, 6.9320291e-01],\n",
       "       [2.6567883e-05, 9.3609798e-01, 2.1351783e-05, 6.3854203e-02],\n",
       "       [4.8539736e-05, 2.0610081e-01, 4.5534678e-05, 7.9380506e-01],\n",
       "       [4.5366414e-05, 1.7480068e-01, 4.2924497e-05, 8.2511109e-01]],\n",
       "      dtype=float32)"
      ]
     },
     "execution_count": 15,
     "metadata": {},
     "output_type": "execute_result"
    }
   ],
   "source": [
    "model.predict(X_test)"
   ]
  },
  {
   "cell_type": "code",
   "execution_count": null,
   "metadata": {},
   "outputs": [],
   "source": []
  }
 ],
 "metadata": {
  "kernelspec": {
   "display_name": "Python 3",
   "language": "python",
   "name": "python3"
  },
  "language_info": {
   "codemirror_mode": {
    "name": "ipython",
    "version": 3
   },
   "file_extension": ".py",
   "mimetype": "text/x-python",
   "name": "python",
   "nbconvert_exporter": "python",
   "pygments_lexer": "ipython3",
   "version": "3.7.3"
  }
 },
 "nbformat": 4,
 "nbformat_minor": 2
}
