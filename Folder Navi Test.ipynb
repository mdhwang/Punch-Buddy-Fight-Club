{
 "cells": [
  {
   "cell_type": "code",
   "execution_count": 2,
   "metadata": {},
   "outputs": [
    {
     "name": "stdout",
     "output_type": "stream",
     "text": [
      "/Users/matthewhwang/Galvanize/fightclub/data/raw/Left Jab/Left Jab 100 Matt Combo RC_2019-11-05T20-19-06.646\n",
      "/Users/matthewhwang/Galvanize/fightclub/data/raw/Left Jab/Left Jab 10 Jack_2019-11-05T16-19-57.817\n",
      "/Users/matthewhwang/Galvanize/fightclub/data/raw/Left Jab/Left Jab 50 Egor Combo RH_2019-11-05T21-06-15.179\n",
      "/Users/matthewhwang/Galvanize/fightclub/data/raw/Left Jab/Left Jab 200 Matt Combo RC_2019-11-09T14-06-59.036\n",
      "/Users/matthewhwang/Galvanize/fightclub/data/raw/Left Jab/Left Jab 25 Egor_2019-11-05T16-24-17.326\n",
      "/Users/matthewhwang/Galvanize/fightclub/data/raw/Left Jab/Left Jab 50 Matt_2019-11-05T14-14-39.859\n",
      "/Users/matthewhwang/Galvanize/fightclub/data/raw/Left Jab/Left Jab 100 Egor Combo RC_2019-11-05T20-25-14.955\n",
      "/Users/matthewhwang/Galvanize/fightclub/data/raw/Left Jab/Left Jab 20 Nathan_2019-11-06T22-02-50.040\n",
      "/Users/matthewhwang/Galvanize/fightclub/data/raw/Left Jab/Left Jab 25 David_2019-11-06T22-21-13.775\n",
      "/Users/matthewhwang/Galvanize/fightclub/data/raw/Left Jab/Left Jab 25 Matt_2019-11-05T17-25-02.091\n",
      "/Users/matthewhwang/Galvanize/fightclub/data/raw/Left Jab/Left Jab 10 Adam_2019-11-05T12-22-19.065\n",
      "/Users/matthewhwang/Galvanize/fightclub/data/raw/Left Jab/Left Jab 10 Linh_2019-11-05T17-46-08.174\n",
      "/Users/matthewhwang/Galvanize/fightclub/data/raw/Left Jab/Left Jab 10 Lea_2019-11-05T11-52-05.449\n",
      "/Users/matthewhwang/Galvanize/fightclub/data/raw/Left Jab/Left Jab 10 Eric _2019-11-05T11-58-10.574\n",
      "/Users/matthewhwang/Galvanize/fightclub/data/raw/Left Jab/Left Jab 20 Matt Combo RH_2019-11-09T15-00-30.300\n",
      "/Users/matthewhwang/Galvanize/fightclub/data/raw/Left Jab/Left Jab 200 Matt Combo RC_2019-11-05T21-10-21.439\n",
      "/Users/matthewhwang/Galvanize/fightclub/data/raw/Left Jab/Left Jab 20 Nina_2019-11-06T22-05-33.583\n",
      "/Users/matthewhwang/Galvanize/fightclub/data/raw/Left Jab/Left Jab 50 Matt Combo RH_2019-11-09T14-55-05.994\n",
      "/Users/matthewhwang/Galvanize/fightclub/data/raw/Left Jab/Left Jab 100 Matt Combo RC_2019-11-09T13-51-33.558\n",
      "/Users/matthewhwang/Galvanize/fightclub/data/raw/Left Jab/Left Jab 10 Rahim_2019-11-05T15-57-27.848\n",
      "/Users/matthewhwang/Galvanize/fightclub/data/raw/Left Jab/Left Jab 10 Flora_2019-11-05T12-24-30.849\n",
      "/Users/matthewhwang/Galvanize/fightclub/data/raw/Left Jab/Left Jab 25 Aaron_2019-11-05T14-11-05.987\n",
      "/Users/matthewhwang/Galvanize/fightclub/data/raw/Left Jab/Left Jab 10 Matt_2019-11-05T11-59-58.108\n",
      "/Users/matthewhwang/Galvanize/fightclub/data/raw/Left Jab/Left Jab 200 Matt Combo RC_2019-11-09T14-22-13.345\n"
     ]
    }
   ],
   "source": [
    "import os\n",
    "\n",
    "path = '/Users/matthewhwang/Galvanize/fightclub/data/raw/Left Jab'\n",
    "\n",
    "folders = []\n",
    "\n",
    "# r=root, d=directories, f = files\n",
    "for r, d, f in os.walk(path):\n",
    "    for folder in d:\n",
    "        folders.append(os.path.join(r, folder))\n",
    "\n",
    "for f in folders:\n",
    "    print(f)"
   ]
  },
  {
   "cell_type": "code",
   "execution_count": 4,
   "metadata": {},
   "outputs": [],
   "source": [
    "import glob\n",
    "\n",
    "path = 'c:\\\\projects\\\\hc2\\\\'\n",
    "\n",
    "files = [f for f in glob.glob(path + \"**/*.txt\", recursive=True)]\n",
    "\n",
    "for f in files:\n",
    "    print(f)"
   ]
  },
  {
   "cell_type": "code",
   "execution_count": 20,
   "metadata": {},
   "outputs": [],
   "source": [
    "files = [f for f in glob.glob(folders[0] + \"**/*.csv\")]"
   ]
  },
  {
   "cell_type": "code",
   "execution_count": 21,
   "metadata": {},
   "outputs": [
    {
     "data": {
      "text/plain": [
       "['/Users/matthewhwang/Galvanize/fightclub/data/raw/Left Jab/Left Jab 100 Matt Combo RC_2019-11-05T20-19-06.646/Left Jab 100 Matt Combo RC_Accelerometer_2019-11-05T20-19-06.646.csv',\n",
       " '/Users/matthewhwang/Galvanize/fightclub/data/raw/Left Jab/Left Jab 100 Matt Combo RC_2019-11-05T20-19-06.646/Left Jab 100 Matt Combo RC_Gyroscope_2019-11-05T20-19-06.646.csv']"
      ]
     },
     "execution_count": 21,
     "metadata": {},
     "output_type": "execute_result"
    }
   ],
   "source": [
    "files"
   ]
  },
  {
   "cell_type": "code",
   "execution_count": 14,
   "metadata": {},
   "outputs": [
    {
     "data": {
      "text/plain": [
       "'/Users/matthewhwang/Galvanize/fightclub/data/raw/Left Jab/Left Jab 100 Matt Combo RC_2019-11-05T20-19-06.646'"
      ]
     },
     "execution_count": 14,
     "metadata": {},
     "output_type": "execute_result"
    }
   ],
   "source": [
    "folders[0]"
   ]
  },
  {
   "cell_type": "code",
   "execution_count": 19,
   "metadata": {},
   "outputs": [
    {
     "data": {
      "text/plain": [
       "'/Users/matthewhwang/Galvanize/fightclub/data/raw/Left Jab/Left Jab 100 Matt Combo RC_2019-11-05T20-19-06.646/Left Jab 100 Matt Combo RC_Accelerometer_2019-11-05T20-19-06.646.csv'"
      ]
     },
     "execution_count": 19,
     "metadata": {},
     "output_type": "execute_result"
    }
   ],
   "source": [
    "files[0]"
   ]
  },
  {
   "cell_type": "code",
   "execution_count": 22,
   "metadata": {},
   "outputs": [],
   "source": [
    "import pandas as pd"
   ]
  },
  {
   "cell_type": "code",
   "execution_count": 23,
   "metadata": {},
   "outputs": [],
   "source": [
    "accel = pd.read_csv(files[0])"
   ]
  },
  {
   "cell_type": "code",
   "execution_count": 24,
   "metadata": {},
   "outputs": [
    {
     "data": {
      "text/html": [
       "<div>\n",
       "<style scoped>\n",
       "    .dataframe tbody tr th:only-of-type {\n",
       "        vertical-align: middle;\n",
       "    }\n",
       "\n",
       "    .dataframe tbody tr th {\n",
       "        vertical-align: top;\n",
       "    }\n",
       "\n",
       "    .dataframe thead th {\n",
       "        text-align: right;\n",
       "    }\n",
       "</style>\n",
       "<table border=\"1\" class=\"dataframe\">\n",
       "  <thead>\n",
       "    <tr style=\"text-align: right;\">\n",
       "      <th></th>\n",
       "      <th>epoch (ms)</th>\n",
       "      <th>time (-08:00)</th>\n",
       "      <th>elapsed (s)</th>\n",
       "      <th>X-Axis (g)</th>\n",
       "      <th>Y-Axis (g)</th>\n",
       "      <th>Z-Axis (g)</th>\n",
       "    </tr>\n",
       "  </thead>\n",
       "  <tbody>\n",
       "    <tr>\n",
       "      <th>0</th>\n",
       "      <td>1573013946727</td>\n",
       "      <td>2019-11-05T20:19:06.727</td>\n",
       "      <td>0.000</td>\n",
       "      <td>-0.781</td>\n",
       "      <td>0.036</td>\n",
       "      <td>0.689</td>\n",
       "    </tr>\n",
       "    <tr>\n",
       "      <th>1</th>\n",
       "      <td>1573013946766</td>\n",
       "      <td>2019-11-05T20:19:06.766</td>\n",
       "      <td>0.039</td>\n",
       "      <td>-0.789</td>\n",
       "      <td>0.039</td>\n",
       "      <td>0.695</td>\n",
       "    </tr>\n",
       "    <tr>\n",
       "      <th>2</th>\n",
       "      <td>1573013946807</td>\n",
       "      <td>2019-11-05T20:19:06.807</td>\n",
       "      <td>0.080</td>\n",
       "      <td>-0.789</td>\n",
       "      <td>0.044</td>\n",
       "      <td>0.694</td>\n",
       "    </tr>\n",
       "    <tr>\n",
       "      <th>3</th>\n",
       "      <td>1573013946847</td>\n",
       "      <td>2019-11-05T20:19:06.847</td>\n",
       "      <td>0.120</td>\n",
       "      <td>-0.784</td>\n",
       "      <td>0.057</td>\n",
       "      <td>0.685</td>\n",
       "    </tr>\n",
       "    <tr>\n",
       "      <th>4</th>\n",
       "      <td>1573013946888</td>\n",
       "      <td>2019-11-05T20:19:06.888</td>\n",
       "      <td>0.161</td>\n",
       "      <td>-0.785</td>\n",
       "      <td>0.055</td>\n",
       "      <td>0.692</td>\n",
       "    </tr>\n",
       "  </tbody>\n",
       "</table>\n",
       "</div>"
      ],
      "text/plain": [
       "      epoch (ms)            time (-08:00)  elapsed (s)  X-Axis (g)  \\\n",
       "0  1573013946727  2019-11-05T20:19:06.727        0.000      -0.781   \n",
       "1  1573013946766  2019-11-05T20:19:06.766        0.039      -0.789   \n",
       "2  1573013946807  2019-11-05T20:19:06.807        0.080      -0.789   \n",
       "3  1573013946847  2019-11-05T20:19:06.847        0.120      -0.784   \n",
       "4  1573013946888  2019-11-05T20:19:06.888        0.161      -0.785   \n",
       "\n",
       "   Y-Axis (g)  Z-Axis (g)  \n",
       "0       0.036       0.689  \n",
       "1       0.039       0.695  \n",
       "2       0.044       0.694  \n",
       "3       0.057       0.685  \n",
       "4       0.055       0.692  "
      ]
     },
     "execution_count": 24,
     "metadata": {},
     "output_type": "execute_result"
    }
   ],
   "source": [
    "accel.head()"
   ]
  },
  {
   "cell_type": "code",
   "execution_count": 29,
   "metadata": {},
   "outputs": [],
   "source": [
    "name = files[0].split('/')[-1].split(' ')"
   ]
  },
  {
   "cell_type": "code",
   "execution_count": 30,
   "metadata": {},
   "outputs": [
    {
     "data": {
      "text/plain": [
       "['Left',\n",
       " 'Jab',\n",
       " '100',\n",
       " 'Matt',\n",
       " 'Combo',\n",
       " 'RC_Accelerometer_2019-11-05T20-19-06.646.csv']"
      ]
     },
     "execution_count": 30,
     "metadata": {},
     "output_type": "execute_result"
    }
   ],
   "source": [
    "name"
   ]
  },
  {
   "cell_type": "code",
   "execution_count": 31,
   "metadata": {},
   "outputs": [],
   "source": [
    "category = name[0] + \" \" + name[1]"
   ]
  },
  {
   "cell_type": "code",
   "execution_count": 32,
   "metadata": {},
   "outputs": [
    {
     "data": {
      "text/plain": [
       "'Left Jab'"
      ]
     },
     "execution_count": 32,
     "metadata": {},
     "output_type": "execute_result"
    }
   ],
   "source": [
    "category"
   ]
  },
  {
   "cell_type": "code",
   "execution_count": 35,
   "metadata": {},
   "outputs": [],
   "source": [
    "count = int(name[2])"
   ]
  },
  {
   "cell_type": "code",
   "execution_count": 36,
   "metadata": {},
   "outputs": [
    {
     "data": {
      "text/plain": [
       "100"
      ]
     },
     "execution_count": 36,
     "metadata": {},
     "output_type": "execute_result"
    }
   ],
   "source": [
    "count"
   ]
  },
  {
   "cell_type": "code",
   "execution_count": null,
   "metadata": {},
   "outputs": [],
   "source": []
  }
 ],
 "metadata": {
  "kernelspec": {
   "display_name": "Python 3",
   "language": "python",
   "name": "python3"
  },
  "language_info": {
   "codemirror_mode": {
    "name": "ipython",
    "version": 3
   },
   "file_extension": ".py",
   "mimetype": "text/x-python",
   "name": "python",
   "nbconvert_exporter": "python",
   "pygments_lexer": "ipython3",
   "version": "3.7.3"
  }
 },
 "nbformat": 4,
 "nbformat_minor": 2
}
